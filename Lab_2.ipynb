{
  "nbformat": 4,
  "nbformat_minor": 0,
  "metadata": {
    "colab": {
      "provenance": [],
      "include_colab_link": true
    },
    "kernelspec": {
      "name": "python3",
      "display_name": "Python 3"
    },
    "language_info": {
      "name": "python"
    }
  },
  "cells": [
    {
      "cell_type": "markdown",
      "metadata": {
        "id": "view-in-github",
        "colab_type": "text"
      },
      "source": [
        "<a href=\"https://colab.research.google.com/github/mfmanberg/CS506-Fall2025/blob/main/Lab_2.ipynb\" target=\"_parent\"><img src=\"https://colab.research.google.com/assets/colab-badge.svg\" alt=\"Open In Colab\"/></a>"
      ]
    },
    {
      "cell_type": "markdown",
      "source": [
        "For the beginning of this lab we are going to look at implementing different distance metrics.\n",
        "\n",
        "# You need to upload your completed notebook to the Github repo and also submit your Github repo link on Gradescope under Lab 2"
      ],
      "metadata": {
        "id": "qXKV8OC7DcwV"
      }
    },
    {
      "cell_type": "markdown",
      "source": [],
      "metadata": {
        "id": "75iBpt9SIg7s"
      }
    },
    {
      "cell_type": "markdown",
      "source": [
        "# Exercise 1) Write Python functions for the three metrics (Euclidean, Manhattan and Minkowski):"
      ],
      "metadata": {
        "id": "ip0nE5CdDoNy"
      }
    },
    {
      "cell_type": "code",
      "source": [
        "import matplotlib.pyplot as plt"
      ],
      "metadata": {
        "id": "B92xBEzeyQPi"
      },
      "execution_count": null,
      "outputs": []
    },
    {
      "cell_type": "code",
      "source": [],
      "metadata": {
        "id": "1EFIVIXDji1H"
      },
      "execution_count": null,
      "outputs": []
    },
    {
      "cell_type": "code",
      "execution_count": null,
      "metadata": {
        "id": "kUi1jJpFDbUj"
      },
      "outputs": [],
      "source": [
        "import numpy as np\n",
        "\n",
        "#EUCLIDEAN\n",
        "\n",
        "\n",
        "def euclidean(a, b):\n",
        "    # TO-DO\n",
        "    return np.sqrt(np.sum((a - b)**2))\n",
        "\n",
        "#MANHATTAN\n",
        "\n",
        "\n",
        "\n",
        "\n",
        "def manhattan(a, b):\n",
        "    # TO-DO\n",
        "    return np.sum(np.abs(a - b))\n",
        "\n",
        "#MINKOWSKI\n",
        "\n",
        "\n",
        "\n",
        "def minkowski(a, b, p=3):\n",
        "    # TO-DO\n",
        "    return np.sum(np.abs(a - b)**p)**(1/p)"
      ]
    },
    {
      "cell_type": "code",
      "source": [
        "a = np.array([1, 2])\n",
        "b = np.array([4, 6])"
      ],
      "metadata": {
        "id": "i5R1L8XAD8KI"
      },
      "execution_count": null,
      "outputs": []
    },
    {
      "cell_type": "markdown",
      "source": [
        "##For sample tests cases we expect\n",
        "* Euclidean = 5\n",
        "* Manhattan = 7\n",
        "* Minkokski (p = 3) ~ 4.4979"
      ],
      "metadata": {
        "id": "v1YDOprREHuw"
      }
    },
    {
      "cell_type": "code",
      "source": [
        "assert euclidean(a, b) == 5\n",
        "assert manhattan(a, b) == 7\n",
        "assert minkowski(a, b, p=3) == 4.497941445275415"
      ],
      "metadata": {
        "id": "7VWZeMmpH5Gt"
      },
      "execution_count": null,
      "outputs": []
    },
    {
      "cell_type": "code",
      "source": [
        "a = np.array([2, 3, 5])\n",
        "b = np.array([2, 3, 5])"
      ],
      "metadata": {
        "id": "J0toQjdaEdiw"
      },
      "execution_count": null,
      "outputs": []
    },
    {
      "cell_type": "markdown",
      "source": [
        "For identical points we expect\n",
        "* Euclidean = 0.0\n",
        "* Manhattan = 0.0\n",
        "* Minkokski (p = 4) ~ 0.0"
      ],
      "metadata": {
        "id": "oBsbiDShEYy8"
      }
    },
    {
      "cell_type": "code",
      "source": [
        "assert euclidean(a, b) == 0.0\n",
        "assert manhattan(a, b) == 0.0\n",
        "assert minkowski(a, b, p=3) == 0.0"
      ],
      "metadata": {
        "id": "mZA6ayG7Icut"
      },
      "execution_count": null,
      "outputs": []
    },
    {
      "cell_type": "markdown",
      "source": [
        "#Exercise 2) In this part of the lab we will first be using the make_blobs method from sklearn.datasets, it creates for us an artificial dataset whereby we will inject outliers into our small dataset"
      ],
      "metadata": {
        "id": "kHn9exDsI6IF"
      }
    },
    {
      "cell_type": "code",
      "source": [
        "from sklearn.datasets import make_blobs\n",
        "from sklearn.metrics import pairwise_distances\n",
        "\n",
        "# --- 1) Make clustered data ---\n",
        "X, y = make_blobs(n_samples=300,\n",
        "                  centers=[(-2, -2), (0, 4)],\n",
        "                  cluster_std=0.6,\n",
        "                  random_state=42)\n",
        "\n",
        "# --- 2) Inject outliers ---\n",
        "n_outliers = 2\n",
        "rng = np.random.RandomState(42)\n",
        "\n",
        "# choose a wide box far outside clusters\n",
        "X_outliers = rng.uniform(low=-12, high=10, size=(n_outliers, 2))\n",
        "\n",
        "\n",
        "# combine\n",
        "#X_full = np.vstack([X, X_outliers])\n",
        "#y_full = np.hstack([y, [-1]*n_outliers])  # mark outliers as -1\n",
        "\n",
        "\n",
        "# --- 3) Plot ---\n",
        "plt.scatter(X[:, 0], X[:, 1], c=y, cmap=\"tab10\", s=40)\n",
        "plt.scatter(X_outliers[:,0], X_outliers[:,1],\n",
        "            c=\"red\", marker=\"*\", s=200, label=\"Outliers\")\n",
        "#plt.scatter(X_outliers[:, 0], X_outliers[:, 1], facecolors=\"none\", edgecolors=\"red\", s=120, linewidths=2, label=\"outliers\")\n",
        "plt.legend()\n",
        "plt.title(\"make_blobs clusters + clear outliers\")\n",
        "plt.show()"
      ],
      "metadata": {
        "colab": {
          "base_uri": "https://localhost:8080/",
          "height": 452
        },
        "id": "ia2XRWvrcoFe",
        "outputId": "1799966f-cda9-4260-d645-0164cc630fc5"
      },
      "execution_count": null,
      "outputs": [
        {
          "output_type": "display_data",
          "data": {
            "text/plain": [
              "<Figure size 640x480 with 1 Axes>"
            ],
            "image/png": "[encoded data removed]"
          },
          "metadata": {}
        }
      ]
    },
    {
      "cell_type": "markdown",
      "source": [
        "#Our next tasks will be to use\n",
        "* First calculate Euclidean distances between points\n",
        "* In the next cell we will be calculating the cosine distance between points.\n",
        "\n",
        "###**Hint:** We can use the pairwise distance function from sklearn and call the appropriate distance function"
      ],
      "metadata": {
        "id": "7oR_-B1kJJpt"
      }
    },
    {
      "cell_type": "markdown",
      "source": [
        "When looking at the plots, what kind of interpretations can you make, is euclidean or cosine better in this scenario? Which one seems to have a harder time with outliers?"
      ],
      "metadata": {
        "id": "tGDkJ5keWa_d"
      }
    },
    {
      "cell_type": "code",
      "source": [
        "from sklearn.metrics import pairwise_distances\n",
        "\n",
        "# --- 1) Make clustered data ---\n",
        "X, y = make_blobs(n_samples=300,\n",
        "                  centers=[(-2, -2), (0, 4)],\n",
        "                  cluster_std=0.6,\n",
        "                  random_state=42)\n",
        "\n",
        "# --- 2) Inject outliers ---\n",
        "n_outliers = 2\n",
        "rng = np.random.RandomState(42)\n",
        "\n",
        "# choose a wide box far outside clusters\n",
        "X_outliers = rng.uniform(low=-12, high=10, size=(n_outliers, 2))\n",
        "\n",
        "\n",
        "# combine\n",
        "X_full = np.vstack([X, X_outliers])\n",
        "y_full = np.hstack([y, [-1]*n_outliers])  # mark outliers as -1\n",
        "\n",
        "# TO-DO\n",
        "# --- Compute pairwise Euclidean distances ---\n",
        "D =\n",
        "\n",
        "# Distance profile: average distance to all other points\n",
        "mean_dist = D.mean(axis=1)\n",
        "\n",
        "# Identify potential outliers (top-2 by average distance)\n",
        "outlier_indices = np.argsort(mean_dist)[-2:][::-1]\n",
        "\n",
        "# --- 3) Plot ---\n",
        "plt.scatter(X_full[:, 0], X_full[:, 1], c=y_full, cmap=\"tab10\", s=40)\n",
        "plt.scatter(X_full[outlier_indices,0], X_full[outlier_indices,1],\n",
        "            facecolors=\"none\", edgecolors=\"red\",\n",
        "            s=120, linewidths=2, label=\"outliers\")\n",
        "\n",
        "plt.legend()\n",
        "plt.title(\"make_blobs clusters + clear outliers\")\n",
        "plt.show()"
      ],
      "metadata": {
        "id": "niUY0OEyVEwG"
      },
      "execution_count": null,
      "outputs": []
    },
    {
      "cell_type": "code",
      "source": [
        "# --- 1) Make clustered data ---\n",
        "X, y = make_blobs(n_samples=300,\n",
        "                  centers=[(-2, -2), (0, 4)],\n",
        "                  cluster_std=0.6,\n",
        "                  random_state=42)\n",
        "\n",
        "# --- 2) Inject outliers ---\n",
        "n_outliers = 2\n",
        "rng = np.random.RandomState(42)\n",
        "\n",
        "# choose a wide box far outside clusters\n",
        "X_outliers = rng.uniform(low=-12, high=10, size=(n_outliers, 2))\n",
        "\n",
        "\n",
        "# combine\n",
        "X_full = np.vstack([X, X_outliers])\n",
        "y_full = np.hstack([y, [-1]*n_outliers])  # mark outliers as -1\n",
        "\n",
        "# TO-DO\n",
        "# --- Compute pairwise Cosine distances ---\n",
        "D =\n",
        "\n",
        "# TO-DO\n",
        "# Distance profile: average distance to all other points\n",
        "mean_dist = D.\n",
        "\n",
        "# TO-DO\n",
        "# Identify potential outliers (top-2 by average distance)\n",
        "outlier_indices =\n",
        "\n",
        "# --- 3) Plot ---\n",
        "plt.scatter(X_full[:, 0], X_full[:, 1], c=y_full, cmap=\"tab10\", s=40)\n",
        "#plt.scatter(X_full[outlier_indices,0], X_full[outlier_indices,1],\n",
        "#            c=\"red\", marker=\"*\", s=200, label=\"Outliers\")\n",
        "\n",
        "plt.scatter(X_full[outlier_indices,0], X_full[outlier_indices,1],\n",
        "            facecolors=\"none\", edgecolors=\"red\",\n",
        "            s=120, linewidths=2, label=\"outliers\")\n",
        "plt.legend()\n",
        "plt.title(\"make_blobs clusters + clear outliers\")\n",
        "plt.show()"
      ],
      "metadata": {
        "id": "7zUFBxY-Vhrh"
      },
      "execution_count": null,
      "outputs": []
    },
    {
      "cell_type": "markdown",
      "source": [
        "#Exercise 3) In this part of the lab we will first be using the make_circle method from sklearn.datasets, it creates for us an artificial dataset whereby we will inject outliers into our small dataset"
      ],
      "metadata": {
        "id": "V72SFv4gLWd5"
      }
    },
    {
      "cell_type": "code",
      "source": [
        "from sklearn.datasets import make_circles\n",
        "\n",
        "X, y = make_circles(n_samples=500, factor=0.8, noise=0.05, random_state=42)\n",
        "\n",
        "\n",
        "\n",
        "\n",
        "# --- 2) Inject outliers ---\n",
        "n_outliers = 2\n",
        "rng = np.random.RandomState(42)\n",
        "\n",
        "# choose a wide box far outside clusters\n",
        "X_outliers = rng.uniform(low=-8, high=8, size=(n_outliers, 2))\n",
        "\n",
        "# combine\n",
        "X_full = np.vstack([X, X_outliers])\n",
        "y_full = np.hstack([y, [-1]*n_outliers])  # mark outliers as -1\n",
        "\n",
        "plt.scatter(X_full[:,0], X_full[:,1], c='red', cmap=\"coolwarm\", s=20)\n",
        "\n",
        "plt.scatter(X_outliers[:,0], X_outliers[:,1],\n",
        "            c=\"blue\", marker=\"*\", s=200, label=\"Outliers\")\n",
        "\n",
        "plt.gca().set_aspect(\"equal\")\n",
        "plt.title(\"make_circles (true circular structure)\")\n",
        "plt.show()"
      ],
      "metadata": {
        "colab": {
          "base_uri": "https://localhost:8080/",
          "height": 487
        },
        "id": "h87nGN5Hf1i-",
        "outputId": "ca4649ca-5ca2-4412-c2e0-3edb45fc4390"
      },
      "execution_count": null,
      "outputs": [
        {
          "output_type": "stream",
          "name": "stderr",
          "text": [
            "/tmp/ipython-input-4061339648.py:19: UserWarning: No data for colormapping provided via 'c'. Parameters 'cmap' will be ignored\n",
            "  plt.scatter(X_full[:,0], X_full[:,1], c='red', cmap=\"coolwarm\", s=20)\n"
          ]
        },
        {
          "output_type": "display_data",
          "data": {
            "text/plain": [
              "<Figure size 640x480 with 1 Axes>"
            ],
            "image/png": "[encoded data removed]"
          },
          "metadata": {}
        }
      ]
    },
    {
      "cell_type": "markdown",
      "source": [
        "#Our next tasks will be to use\n",
        "* First calculate Euclidean distances between points\n",
        "* In the next cell we will be calculating the cosine distance between points.\n",
        "\n",
        "###**Hint:** We can use the pairwise distance function from sklearn and call the appropriate distance function.\n",
        "It's the same method we used previously"
      ],
      "metadata": {
        "id": "p7V_vYjPOELJ"
      }
    },
    {
      "cell_type": "code",
      "source": [
        "from sklearn.datasets import make_circles\n",
        "from sklearn.metrics import pairwise_distances\n",
        "\n",
        "X, y = make_circles(n_samples=500, factor=0.8, noise=0.05, random_state=42)\n",
        "\n",
        "\n",
        "\n",
        "\n",
        "# --- 2) Inject outliers ---\n",
        "n_outliers = 2\n",
        "rng = np.random.RandomState(42)\n",
        "\n",
        "# choose a wide box far outside clusters\n",
        "X_outliers = rng.uniform(low=-8, high=8, size=(n_outliers, 2))\n",
        "\n",
        "# combine\n",
        "X_full = np.vstack([X, X_outliers])\n",
        "y_full = np.hstack([y, [-1]*n_outliers])  # mark outliers as -1\n",
        "\n",
        "# TO-DO\n",
        "# --- Compute pairwise Euclidean distances ---\n",
        "D =\n",
        "\n",
        "# TO-DO\n",
        "# Distance profile: average distance to all other points\n",
        "mean_dist =\n",
        "\n",
        "# TO-DO\n",
        "# Identify potential outliers (top-2 by average distance)\n",
        "outlier_indices =\n",
        "\n",
        "plt.scatter(X_full[:,0], X_full[:,1], c='blue', cmap=\"coolwarm\", s=20)\n",
        "\n",
        "#plt.scatter(X_full[outlier_indices,0], X_full[outlier_indices,1],\n",
        "#            c=\"blue\", marker=\"*\", s=200, label=\"Outliers\")\n",
        "\n",
        "plt.scatter(X_full[outlier_indices,0], X_full[outlier_indices,1],\n",
        "            facecolors=\"none\", edgecolors=\"red\",\n",
        "            s=120, linewidths=2, label=\"outliers\")\n",
        "\n",
        "\n",
        "plt.gca().set_aspect(\"equal\")\n",
        "plt.title(\"make_circles (true circular structure)\")\n",
        "plt.show()"
      ],
      "metadata": {
        "id": "Yw_k_Op_YMmj"
      },
      "execution_count": null,
      "outputs": []
    },
    {
      "cell_type": "code",
      "source": [
        "X, y = make_circles(n_samples=500, factor=0.8, noise=0.05, random_state=42)\n",
        "\n",
        "\n",
        "\n",
        "\n",
        "# --- 2) Inject outliers ---\n",
        "n_outliers = 2\n",
        "rng = np.random.RandomState(42)\n",
        "\n",
        "# choose a wide box far outside clusters\n",
        "X_outliers = rng.uniform(low=-8, high=8, size=(n_outliers, 2))\n",
        "\n",
        "# combine\n",
        "X_full = np.vstack([X, X_outliers])\n",
        "y_full = np.hstack([y, [-1]*n_outliers])  # mark outliers as -1\n",
        "\n",
        "# TO-DO\n",
        "# --- Compute pairwise Cosine distances ---\n",
        "D =\n",
        "\n",
        "# TO-DO\n",
        "# Distance profile: average distance to all other points\n",
        "mean_dist =\n",
        "\n",
        "# TO-DO\n",
        "# Identify potential outliers (top-2 by average distance)\n",
        "outlier_indices =\n",
        "\n",
        "plt.scatter(X_full[:,0], X_full[:,1], c='blue', cmap=\"coolwarm\", s=20)\n",
        "\n",
        "plt.scatter(X_full[outlier_indices,0], X_full[outlier_indices,1],\n",
        "            facecolors=\"none\", edgecolors=\"red\",\n",
        "            s=120, linewidths=2, label=\"outliers\")\n",
        "\n",
        "plt.gca().set_aspect(\"equal\")\n",
        "plt.title(\"make_circles (true circular structure)\")\n",
        "plt.show()"
      ],
      "metadata": {
        "id": "APPNboqUXQpd"
      },
      "execution_count": null,
      "outputs": []
    },
    {
      "cell_type": "markdown",
      "source": [
        "#Exercise 4) In this part of the lab we will first be using numpy to create a set of points in a line, we will inject outliers into our small dataset"
      ],
      "metadata": {
        "id": "IvHu8O3tON_3"
      }
    },
    {
      "cell_type": "code",
      "source": [
        "import numpy as np\n",
        "import matplotlib.pyplot as plt\n",
        "\n",
        "# --- 1. Points along a line y = 2x + 1 ---\n",
        "n_points = 100\n",
        "xs = np.linspace(-5, 5, n_points)\n",
        "ys = 2 * xs + 1\n",
        "line_points = np.column_stack((xs, ys))\n",
        "\n",
        "# --- 2. Add outliers ---\n",
        "n_outliers = 2\n",
        "rng = np.random.default_rng(42)\n",
        "outliers = rng.uniform(low=[-15, -15], high=[25, 35], size=(n_outliers, 2))\n",
        "\n",
        "# --- 3. Combine ---\n",
        "X = np.vstack([line_points, outliers])\n",
        "labels = np.array([0]*len(line_points) + [-1]*len(outliers))  # mark outliers as -1\n",
        "\n",
        "# --- 4. Visualize ---\n",
        "plt.figure(figsize=(7,5))\n",
        "plt.scatter(line_points[:,0], line_points[:,1], c=\"blue\", s=20)\n",
        "plt.scatter(outliers[:,0], outliers[:,1], facecolors=\"none\", edgecolors=\"red\",\n",
        "            s=120, linewidths=2)\n",
        "plt.legend()\n",
        "plt.gca().set_aspect(\"equal\")\n",
        "plt.title(\"Line with injected outliers\")\n",
        "plt.show()\n"
      ],
      "metadata": {
        "colab": {
          "base_uri": "https://localhost:8080/",
          "height": 503
        },
        "id": "q_yMsh_UfYT5",
        "outputId": "82aa662a-0a75-4b91-a812-83f3d07ceeef"
      },
      "execution_count": null,
      "outputs": [
        {
          "output_type": "stream",
          "name": "stderr",
          "text": [
            "/tmp/ipython-input-51576638.py:24: UserWarning: No artists with labels found to put in legend.  Note that artists whose label start with an underscore are ignored when legend() is called with no argument.\n",
            "  plt.legend()\n"
          ]
        },
        {
          "output_type": "display_data",
          "data": {
            "text/plain": [
              "<Figure size 700x500 with 1 Axes>"
            ],
            "image/png": "[encoded data removed]"
          },
          "metadata": {}
        }
      ]
    },
    {
      "cell_type": "markdown",
      "source": [
        "#Our next tasks will be to use\n",
        "* First calculate Euclidean distances between points\n",
        "* In the next cell we will be calculating the cosine distance between points.\n",
        "\n",
        "###**Hint:** We can use the pairwise distance function from sklearn and call the appropriate distance function.\n",
        "It's the same method we used previously"
      ],
      "metadata": {
        "id": "bGTHHOJMOo38"
      }
    },
    {
      "cell_type": "code",
      "source": [
        "import numpy as np\n",
        "import matplotlib.pyplot as plt\n",
        "\n",
        "# --- 1. Points along a line y = 2x + 1 ---\n",
        "n_points = 100\n",
        "xs = np.linspace(-5, 5, n_points)\n",
        "ys = 2 * xs + 1\n",
        "line_points = np.column_stack((xs, ys))\n",
        "\n",
        "# --- 2. Add outliers ---\n",
        "n_outliers = 2\n",
        "rng = np.random.default_rng(42)\n",
        "outliers = rng.uniform(low=[-15, -15], high=[25, 35], size=(n_outliers, 2))\n",
        "\n",
        "# --- 3. Combine ---\n",
        "X = np.vstack([line_points, outliers])\n",
        "labels = np.array([0]*len(line_points) + [-1]*len(outliers))  # mark outliers as -1\n",
        "\n",
        "# TO-DO\n",
        "# --- Compute pairwise Euclidean distances ---\n",
        "D =\n",
        "\n",
        "# TO-DO\n",
        "# Distance profile: average distance to all other points\n",
        "mean_dist =\n",
        "\n",
        "# TO-DO\n",
        "# Identify potential outliers (top-2 by average distance)\n",
        "outlier_indices =\n",
        "\n",
        "# --- 4. Visualize ---\n",
        "plt.figure(figsize=(7,5))\n",
        "#plt.scatter(line_points[:,0], line_points[:,1], c=\"blue\", s=20)\n",
        "plt.scatter(X[:,0], X[:,1], c=\"blue\", s=20)\n",
        "plt.scatter(X[outlier_indices,0], X[outlier_indices,1], facecolors=\"none\", edgecolors=\"red\",\n",
        "            s=120, linewidths=2)\n",
        "plt.legend()\n",
        "plt.gca().set_aspect(\"equal\")\n",
        "plt.title(\"Line with injected outliers\")\n",
        "plt.show()"
      ],
      "metadata": {
        "id": "34Eodo5efLGg"
      },
      "execution_count": null,
      "outputs": []
    },
    {
      "cell_type": "code",
      "source": [
        "import numpy as np\n",
        "import matplotlib.pyplot as plt\n",
        "\n",
        "# --- 1. Points along a line y = 2x + 1 ---\n",
        "n_points = 100\n",
        "xs = np.linspace(-5, 5, n_points)\n",
        "ys = 2 * xs + 1\n",
        "line_points = np.column_stack((xs, ys))\n",
        "\n",
        "# --- 2. Add outliers ---\n",
        "n_outliers = 2\n",
        "rng = np.random.default_rng(42)\n",
        "outliers = rng.uniform(low=[-15, -15], high=[25, 35], size=(n_outliers, 2))\n",
        "\n",
        "# --- 3. Combine ---\n",
        "X = np.vstack([line_points, outliers])\n",
        "labels = np.array([0]*len(line_points) + [-1]*len(outliers))  # mark outliers as -1\n",
        "\n",
        "# TO-DO\n",
        "# --- Compute pairwise Cosine distances ---\n",
        "D =\n",
        "\n",
        "# TO-DO\n",
        "# Distance profile: average distance to all other points\n",
        "mean_dist =\n",
        "\n",
        "# TO-DO\n",
        "# Identify potential outliers (top-2 by average distance)\n",
        "outlier_indices =\n",
        "\n",
        "# --- 4. Visualize ---\n",
        "plt.figure(figsize=(7,5))\n",
        "plt.scatter(X[:,0], X[:,1], c=\"blue\", s=20)\n",
        "plt.scatter(X[outlier_indices,0], X[outlier_indices,1], facecolors=\"none\", edgecolors=\"red\",\n",
        "            s=120, linewidths=2)\n",
        "plt.legend()\n",
        "plt.gca().set_aspect(\"equal\")\n",
        "plt.title(\"Line with injected outliers\")\n",
        "plt.show()"
      ],
      "metadata": {
        "id": "cdnt4Rx1et3H"
      },
      "execution_count": null,
      "outputs": []
    },
    {
      "cell_type": "markdown",
      "source": [
        "In the previous cells we have seen that cosine distance can struggle at times with low dimensional data, however with higher dimensional data like text/image embeddings it can perform better"
      ],
      "metadata": {
        "id": "1_wORBKrO4O6"
      }
    },
    {
      "cell_type": "markdown",
      "source": [
        "#Exercise 5) In this first cell we will be calculating the cosine and euclidean distances for some simulated image data, we will see that cosine distance is more robust to variations in the data"
      ],
      "metadata": {
        "id": "GBh_OKTVQoSV"
      }
    },
    {
      "cell_type": "code",
      "source": [
        "import numpy as np\n",
        "from sklearn.metrics.pairwise import cosine_distances, euclidean_distances\n",
        "\n",
        "rng = np.random.default_rng(0)\n",
        "\n",
        "# Simulate 512-d image embeddings\n",
        "# Image A: a \"reference image\"\n",
        "img_A = rng.normal(size=(1, 512))\n",
        "\n",
        "# Image B: same class (embedding points in nearly the same direction, scaled)\n",
        "img_B = img_A * 5.0 + rng.normal(scale=0.01, size=(1, 512))\n",
        "\n",
        "# Image C: different class (independent random vector)\n",
        "img_C = rng.normal(size=(1, 512))\n",
        "\n",
        "X = np.vstack([img_A, img_B, img_C])\n",
        "\n",
        "# Compute cosine vs Euclidean distances\n",
        "cos_dist =\n",
        "euc_dist =\n",
        "\n",
        "print(\"Cosine distance matrix:\\n\", np.round(cos_dist, 3))\n",
        "print(\"\\nEuclidean distance matrix:\\n\", np.round(euc_dist, 3))\n"
      ],
      "metadata": {
        "colab": {
          "base_uri": "https://localhost:8080/"
        },
        "id": "eR418BSAlWWk",
        "outputId": "4f6a2b77-f6cb-4766-e90b-c68159aa68b0"
      },
      "execution_count": null,
      "outputs": [
        {
          "output_type": "stream",
          "name": "stdout",
          "text": [
            "Cosine distance matrix:\n",
            " [[0.    0.    1.038]\n",
            " [0.    0.    1.038]\n",
            " [1.038 1.038 0.   ]]\n",
            "\n",
            "Euclidean distance matrix:\n",
            " [[  0.     91.421  33.023]\n",
            " [ 91.421   0.    117.424]\n",
            " [ 33.023 117.424   0.   ]]\n"
          ]
        }
      ]
    },
    {
      "cell_type": "markdown",
      "source": [
        "# In this first cell we will be calculating the cosine and euclidean distances for some simulated text document data, we will see that cosine distance is more robust to variations in the data.\n",
        "\n",
        "TF-IDF simply refers to term frequency - inverse document frequency. It’s a statistical measure used in text mining and information retrieval to evaluate how important a word is to a document in a collection (corpus)."
      ],
      "metadata": {
        "id": "N9aBX0UZRhwE"
      }
    },
    {
      "cell_type": "code",
      "source": [
        "import numpy as np\n",
        "from sklearn.metrics.pairwise import cosine_distances, euclidean_distances\n",
        "\n",
        "# Imagine TF–IDF style vectors for documents\n",
        "doc_short = np.array([[1, 2, 3]])        # small vector\n",
        "doc_long  = np.array([[10, 20, 30]])     # same proportions, larger magnitude\n",
        "\n",
        "# Add a different document\n",
        "doc_diff  = np.array([[1, 0, 0]])        # very different direction\n",
        "\n",
        "X = np.vstack([doc_short, doc_long, doc_diff])\n",
        "\n",
        "# TO-DO\n",
        "# Compute distances\n",
        "cos_dist =\n",
        "euc_dist =\n",
        "\n",
        "print(\"Cosine distance:\\n\", cos_dist)\n",
        "print(\"\\nEuclidean distance:\\n\", euc_dist)"
      ],
      "metadata": {
        "id": "jRce2hABltX5"
      },
      "execution_count": null,
      "outputs": []
    },
    {
      "cell_type": "markdown",
      "source": [
        "#Exercise 6) Here we will be exploring a real world dataset from sklearn called the Breast-Cancer dataset from Wisconsin, it is a classic, real-world dataset that comes bundled for practice with classification tasks."
      ],
      "metadata": {
        "id": "hoA2jxKvSpPJ"
      }
    },
    {
      "cell_type": "code",
      "source": [
        "import numpy as np\n",
        "import pandas as pd\n",
        "import matplotlib.pyplot as plt\n",
        "from sklearn.datasets import load_breast_cancer\n",
        "from sklearn.metrics import pairwise_distances\n",
        "\n",
        "# --- Load dataset ---\n",
        "cancer = load_breast_cancer()\n",
        "X = pd.DataFrame(cancer.data, columns=cancer.feature_names)\n",
        "\n",
        "cancer.feature_names"
      ],
      "metadata": {
        "colab": {
          "base_uri": "https://localhost:8080/"
        },
        "id": "33CxXE7Y6vm3",
        "outputId": "ca81f42e-0130-41d4-860b-bb4202d8bedb"
      },
      "execution_count": null,
      "outputs": [
        {
          "output_type": "execute_result",
          "data": {
            "text/plain": [
              "array(['mean radius', 'mean texture', 'mean perimeter', 'mean area',\n",
              "       'mean smoothness', 'mean compactness', 'mean concavity',\n",
              "       'mean concave points', 'mean symmetry', 'mean fractal dimension',\n",
              "       'radius error', 'texture error', 'perimeter error', 'area error',\n",
              "       'smoothness error', 'compactness error', 'concavity error',\n",
              "       'concave points error', 'symmetry error',\n",
              "       'fractal dimension error', 'worst radius', 'worst texture',\n",
              "       'worst perimeter', 'worst area', 'worst smoothness',\n",
              "       'worst compactness', 'worst concavity', 'worst concave points',\n",
              "       'worst symmetry', 'worst fractal dimension'], dtype='<U23')"
            ]
          },
          "metadata": {},
          "execution_count": 18
        }
      ]
    },
    {
      "cell_type": "markdown",
      "source": [
        "## Our task will simply be about exploring some of the features of the dataset, namely the area error and mean area, and looking at it their are any data outliers.\n",
        "\n",
        "### We will be again calculating the\n",
        "* Euclidean distance in the cell below\n",
        "* The next cell will be the cosine distance\n"
      ],
      "metadata": {
        "id": "lu-ki3mUS_Lo"
      }
    },
    {
      "cell_type": "code",
      "source": [
        "# Use only two features: mean radius and mean area\n",
        "X2 = X[['area error', 'mean area']].values\n",
        "\n",
        "# TO-DO\n",
        "# --- Compute pairwise Euclidean distances ---\n",
        "D =\n",
        "\n",
        "# TO-DO\n",
        "# Distance profile: average distance to all other points\n",
        "mean_dist =\n",
        "\n",
        "# TO-DO\n",
        "# Identify potential outliers (top-5 by average distance)\n",
        "outlier_indices =\n",
        "print(\"Top 5 outliers by mean distance:\", outlier_indices)\n",
        "\n",
        "# --- Plot ---\n",
        "plt.figure(figsize=(8,6))\n",
        "plt.scatter(X2[:,0], X2[:,1], c=\"lightblue\", s=40, edgecolor=\"k\", alpha=0.7)\n",
        "plt.scatter(X2[outlier_indices,0], X2[outlier_indices,1],\n",
        "            c=\"red\", marker=\"*\", s=200, label=\"Outliers\")\n",
        "plt.xlabel(\"Area error\")\n",
        "plt.ylabel(\"Mean Area\")\n",
        "plt.title(\"Breast Cancer Dataset: Outlier Detection via Euclidean Distance\")\n",
        "plt.legend()\n",
        "plt.show()\n"
      ],
      "metadata": {
        "id": "9bgN3sHVPMMg"
      },
      "execution_count": null,
      "outputs": []
    },
    {
      "cell_type": "code",
      "source": [
        "# --- Compute pairwise Cosine distances ---\n",
        "D =\n",
        "\n",
        "# TO-DO\n",
        "# Distance profile: average distance to all other points\n",
        "mean_dist =\n",
        "\n",
        "# TO-DO\n",
        "# Identify potential outliers (top-5 by average distance)\n",
        "outlier_indices =\n",
        "print(\"Top 5 outliers by mean distance:\", outlier_indices)\n",
        "\n",
        "# --- Plot ---\n",
        "plt.figure(figsize=(8,6))\n",
        "plt.scatter(X2[:,0], X2[:,1], c=\"lightblue\", s=40, edgecolor=\"k\", alpha=0.7)\n",
        "plt.scatter(X2[outlier_indices,0], X2[outlier_indices,1],\n",
        "            c=\"red\", marker=\"*\", s=200, label=\"Outliers\")\n",
        "plt.xlabel(\"Area error\")\n",
        "plt.ylabel(\"Mean Area\")\n",
        "plt.title(\"Breast Cancer Dataset: Outlier Detection via Cosine Distance\")\n",
        "plt.legend()\n",
        "plt.show()\n"
      ],
      "metadata": {
        "id": "pBSs3rVVPZiV"
      },
      "execution_count": null,
      "outputs": []
    },
    {
      "cell_type": "markdown",
      "source": [
        "## Exercise 7) Here we simply look at a heatmap of different distance functions and seeing any patterns we observe with the data.    \n",
        "  \n",
        "  \n",
        "<br>\n",
        "\n",
        "### What are some of your observation about these heatmaps? Are some plots similar to others, additionally, does any of the heatmaps appear to struggle with detecting any similairty between the distances of a large amount of points?"
      ],
      "metadata": {
        "id": "aVFj9fCN7Z6t"
      }
    },
    {
      "cell_type": "code",
      "source": [
        "import seaborn as sns\n",
        "\n",
        "# Select just two features\n",
        "X2 = X[['area error', 'mean area']].values\n",
        "X2 = X2[:50,:]\n",
        "\n",
        "# TO-DO\n",
        "# --- Compute pairwise distances ---\n",
        "D_euclidean =\n",
        "D_manhattan =\n",
        "D_cosine    =\n",
        "\n",
        "print(\"Distance matrix shape:\", D_euclidean.shape)  # (569, 569)\n",
        "\n",
        "# --- Heatmap plotting function ---\n",
        "def plot_heatmap(D, title):\n",
        "    plt.figure(figsize=(8,6))\n",
        "    sns.heatmap(D, cmap=\"viridis\", cbar_kws={'label': 'Distance'})\n",
        "    plt.title(title)\n",
        "    plt.xlabel(\"Sample index\")\n",
        "    plt.ylabel(\"Sample index\")\n",
        "    plt.show()\n",
        "\n",
        "# Plot heatmaps for each metric\n",
        "plot_heatmap(D_euclidean, \"Pairwise Euclidean Distance Heatmap\")\n",
        "plot_heatmap(D_manhattan, \"Pairwise Manhattan Distance Heatmap\")\n",
        "plot_heatmap(D_cosine,    \"Pairwise Cosine Distance Heatmap\")\n"
      ],
      "metadata": {
        "id": "Z8gmUYrwQmbe"
      },
      "execution_count": null,
      "outputs": []
    },
    {
      "cell_type": "markdown",
      "source": [
        "This cell we are exploring the different clusters in the dataset. We use the K-Mean clustering algorithm that we will be exploring in lectures soon. K-Means is one of the most popular unsupervised learning algorithms for clustering data into groups based on similarity."
      ],
      "metadata": {
        "id": "y0_bBgSn7pWG"
      }
    },
    {
      "cell_type": "code",
      "source": [
        "from sklearn.datasets import make_blobs\n",
        "# Generate data\n",
        "\n",
        "X, y = make_blobs(n_samples=300, centers=2, cluster_std=0.60, random_state=0)\n",
        "\n",
        "from sklearn.cluster import KMeans\n",
        "kmeans = KMeans(n_clusters=2, random_state=0, n_init='auto') # n_init='auto' for modern versions\n",
        "kmeans.fit(X)\n",
        "labels = kmeans.predict(X)\n",
        "\n",
        "plt.scatter(X[:, 0], X[:, 1], c=labels, s=50, cmap='viridis')\n",
        "centers = kmeans.cluster_centers_\n",
        "plt.scatter(centers[:, 0], centers[:, 1], c='red', s=200, alpha=0.75, marker='X')\n",
        "plt.title('K-means Clustering on make_blobs data')\n",
        "plt.xlabel('Feature 1')\n",
        "plt.ylabel('Feature 2')\n",
        "plt.show()"
      ],
      "metadata": {
        "colab": {
          "base_uri": "https://localhost:8080/",
          "height": 472
        },
        "id": "VD7JWfqu3tkq",
        "outputId": "99ae5d5d-1f96-462d-a90e-a50aaf2f8d6b"
      },
      "execution_count": null,
      "outputs": [
        {
          "output_type": "display_data",
          "data": {
            "text/plain": [
              "<Figure size 640x480 with 1 Axes>"
            ],
            "image/png": "[encoded data removed]"
          },
          "metadata": {}
        }
      ]
    }
  ]
}